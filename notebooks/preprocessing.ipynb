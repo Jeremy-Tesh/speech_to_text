{
 "cells": [
  {
   "cell_type": "markdown",
   "metadata": {},
   "source": [
    "## Data Preprocessing"
   ]
  },
  {
   "cell_type": "code",
   "execution_count": 1,
   "metadata": {},
   "outputs": [],
   "source": [
    "# loading libraries\n",
    "import librosa   #for audio processing\n",
    "import librosa.display\n",
    "import wave\n",
    "import IPython.display as ipd\n",
    "import matplotlib.pyplot as plt\n",
    "import numpy as np\n",
    "import sys\n",
    "from scipy.io import wavfile #for audio processing\n",
    "import warnings\n",
    "warnings.filterwarnings(\"ignore\")"
   ]
  },
  {
   "cell_type": "code",
   "execution_count": 2,
   "metadata": {},
   "outputs": [],
   "source": [
    "# loading scripts\n",
    "sys.path.insert(1, '../scripts')\n",
    "sys.path.append(\"..\")\n",
    "sys.path.append(\".\")\n",
    "\n",
    "from data_cleaning import DataCleaner\n",
    "\n",
    "DC = DataCleaner(\"../logs/preprocessing_notebook.log\")"
   ]
  },
  {
   "cell_type": "markdown",
   "metadata": {},
   "source": [
    "## Load metadata"
   ]
  },
  {
   "cell_type": "code",
   "execution_count": 3,
   "metadata": {},
   "outputs": [
    {
     "data": {
      "text/html": [
       "<div>\n",
       "<style scoped>\n",
       "    .dataframe tbody tr th:only-of-type {\n",
       "        vertical-align: middle;\n",
       "    }\n",
       "\n",
       "    .dataframe tbody tr th {\n",
       "        vertical-align: top;\n",
       "    }\n",
       "\n",
       "    .dataframe thead th {\n",
       "        text-align: right;\n",
       "    }\n",
       "</style>\n",
       "<table border=\"1\" class=\"dataframe\">\n",
       "  <thead>\n",
       "    <tr style=\"text-align: right;\">\n",
       "      <th></th>\n",
       "      <th>Target</th>\n",
       "      <th>Feature</th>\n",
       "      <th>Output</th>\n",
       "    </tr>\n",
       "  </thead>\n",
       "  <tbody>\n",
       "    <tr>\n",
       "      <th>0</th>\n",
       "      <td>ያንደኛ ደረጃ ትምህርታቸው ን ጐንደር ተ ም ረዋል</td>\n",
       "      <td>../data/train/wav/tr_1_tr01001.wav</td>\n",
       "      <td>../data/train_new/tr_1_tr01001.wav</td>\n",
       "    </tr>\n",
       "    <tr>\n",
       "      <th>1</th>\n",
       "      <td>የተ ለቀቁት ምርኮኞች በ አካባቢያቸው ሰላማዊ ኑሮ እንዲ ኖሩ የ ትራንስፖ...</td>\n",
       "      <td>../data/train/wav/tr_2_tr01002.wav</td>\n",
       "      <td>../data/train_new/tr_2_tr01002.wav</td>\n",
       "    </tr>\n",
       "    <tr>\n",
       "      <th>2</th>\n",
       "      <td>በ አዲስ አበባው ስታዲየም በ ተካሄዱ ት ሁለት ግጥሚያ ዎች በ መጀመሪያ ...</td>\n",
       "      <td>../data/train/wav/tr_3_tr01003.wav</td>\n",
       "      <td>../data/train_new/tr_3_tr01003.wav</td>\n",
       "    </tr>\n",
       "    <tr>\n",
       "      <th>3</th>\n",
       "      <td>ወሬው ን ወሬ ያደረጉ ምስጢረ ኞች ናቸው</td>\n",
       "      <td>../data/train/wav/tr_4_tr01004.wav</td>\n",
       "      <td>../data/train_new/tr_4_tr01004.wav</td>\n",
       "    </tr>\n",
       "    <tr>\n",
       "      <th>4</th>\n",
       "      <td>ኢትዮጵያዊ ቷ በ ብሄራዊ ባህላዊ አለባበስ ከ አለም አንደኝነት ን ተቀዳጀ ች</td>\n",
       "      <td>../data/train/wav/tr_5_tr01005.wav</td>\n",
       "      <td>../data/train_new/tr_5_tr01005.wav</td>\n",
       "    </tr>\n",
       "  </tbody>\n",
       "</table>\n",
       "</div>"
      ],
      "text/plain": [
       "                                              Target  \\\n",
       "0                    ያንደኛ ደረጃ ትምህርታቸው ን ጐንደር ተ ም ረዋል   \n",
       "1  የተ ለቀቁት ምርኮኞች በ አካባቢያቸው ሰላማዊ ኑሮ እንዲ ኖሩ የ ትራንስፖ...   \n",
       "2  በ አዲስ አበባው ስታዲየም በ ተካሄዱ ት ሁለት ግጥሚያ ዎች በ መጀመሪያ ...   \n",
       "3                          ወሬው ን ወሬ ያደረጉ ምስጢረ ኞች ናቸው   \n",
       "4   ኢትዮጵያዊ ቷ በ ብሄራዊ ባህላዊ አለባበስ ከ አለም አንደኝነት ን ተቀዳጀ ች   \n",
       "\n",
       "                              Feature                              Output  \n",
       "0  ../data/train/wav/tr_1_tr01001.wav  ../data/train_new/tr_1_tr01001.wav  \n",
       "1  ../data/train/wav/tr_2_tr01002.wav  ../data/train_new/tr_2_tr01002.wav  \n",
       "2  ../data/train/wav/tr_3_tr01003.wav  ../data/train_new/tr_3_tr01003.wav  \n",
       "3  ../data/train/wav/tr_4_tr01004.wav  ../data/train_new/tr_4_tr01004.wav  \n",
       "4  ../data/train/wav/tr_5_tr01005.wav  ../data/train_new/tr_5_tr01005.wav  "
      ]
     },
     "execution_count": 3,
     "metadata": {},
     "output_type": "execute_result"
    }
   ],
   "source": [
    "# loading meta data\n",
    "path = \"../data/train\"\n",
    "output = \"../data/train_new\"\n",
    "\n",
    "meta_data = DC.generate_metadata(path, output)\n",
    "meta_data.head()\n"
   ]
  },
  {
   "cell_type": "markdown",
   "metadata": {},
   "source": [
    "## Convert Mono to Stereo"
   ]
  },
  {
   "cell_type": "code",
   "execution_count": 4,
   "metadata": {},
   "outputs": [],
   "source": [
    "# adding new column for channels count\n",
    "\n",
    "meta_data= DC.channel_count(meta_data)"
   ]
  },
  {
   "cell_type": "code",
   "execution_count": 5,
   "metadata": {},
   "outputs": [
    {
     "data": {
      "text/plain": [
       "400    10818\n",
       "1         57\n",
       "Name: n_channel, dtype: int64"
      ]
     },
     "execution_count": 5,
     "metadata": {},
     "output_type": "execute_result"
    }
   ],
   "source": [
    "# checking number of channels\n",
    "\n",
    "meta_data[\"n_channel\"].value_counts()"
   ]
  },
  {
   "cell_type": "markdown",
   "metadata": {},
   "source": [
    "**Observation**\n",
    "- All the loadded audio samples are mono\n",
    "- 400 is just a placeholder for missing audio files \n",
    "  because only a limited number of samples are taken for development\n",
    "  This will not be present when the data is complete."
   ]
  },
  {
   "cell_type": "code",
   "execution_count": 6,
   "metadata": {},
   "outputs": [],
   "source": [
    "# Converting to stereo\n",
    "\n",
    "DC.make_stereo(meta_data)"
   ]
  },
  {
   "cell_type": "code",
   "execution_count": 7,
   "metadata": {},
   "outputs": [
    {
     "data": {
      "text/plain": [
       "400    10818\n",
       "2         57\n",
       "Name: n_channel, dtype: int64"
      ]
     },
     "execution_count": 7,
     "metadata": {},
     "output_type": "execute_result"
    }
   ],
   "source": [
    "# checking number of channels again\n",
    "\n",
    "meta_data= DC.channel_count(meta_data, True)\n",
    "meta_data[\"n_channel\"].value_counts()"
   ]
  },
  {
   "cell_type": "markdown",
   "metadata": {},
   "source": [
    "**Observation**\n",
    "- audio samples have been successfully converted to stereo\n",
    "- 400 is just a placeholder for missing audio files \n",
    "  because only a limited number of samples are taken for development\n",
    "  This will not be present when the data is complete."
   ]
  },
  {
   "cell_type": "markdown",
   "metadata": {},
   "source": [
    "## Standardize Sampling Rate"
   ]
  },
  {
   "cell_type": "markdown",
   "metadata": {},
   "source": []
  },
  {
   "cell_type": "code",
   "execution_count": 8,
   "metadata": {},
   "outputs": [],
   "source": [
    "DC.standardize(meta_data)"
   ]
  },
  {
   "cell_type": "code",
   "execution_count": 9,
   "metadata": {},
   "outputs": [
    {
     "data": {
      "text/plain": [
       "_wave_params(nchannels=2, sampwidth=2, framerate=44100, nframes=0, comptype='NONE', compname='not compressed')"
      ]
     },
     "execution_count": 9,
     "metadata": {},
     "output_type": "execute_result"
    }
   ],
   "source": [
    "data =  wave.open('../data/train_new/tr_10_tr01010.wav')\n",
    "data.getparams()"
   ]
  },
  {
   "cell_type": "markdown",
   "metadata": {},
   "source": [
    "**Observation**\n",
    "- sample rates have been sucessfully standardized\n",
    "- framrate = 44100\n"
   ]
  },
  {
   "cell_type": "markdown",
   "metadata": {},
   "source": [
    "## Resizing Audio Samples"
   ]
  },
  {
   "cell_type": "code",
   "execution_count": 10,
   "metadata": {},
   "outputs": [
    {
     "data": {
      "text/html": [
       "<div>\n",
       "<style scoped>\n",
       "    .dataframe tbody tr th:only-of-type {\n",
       "        vertical-align: middle;\n",
       "    }\n",
       "\n",
       "    .dataframe tbody tr th {\n",
       "        vertical-align: top;\n",
       "    }\n",
       "\n",
       "    .dataframe thead th {\n",
       "        text-align: right;\n",
       "    }\n",
       "</style>\n",
       "<table border=\"1\" class=\"dataframe\">\n",
       "  <thead>\n",
       "    <tr style=\"text-align: right;\">\n",
       "      <th></th>\n",
       "      <th>Target</th>\n",
       "      <th>Feature</th>\n",
       "      <th>Output</th>\n",
       "      <th>n_channel</th>\n",
       "    </tr>\n",
       "  </thead>\n",
       "  <tbody>\n",
       "    <tr>\n",
       "      <th>0</th>\n",
       "      <td>ያንደኛ ደረጃ ትምህርታቸው ን ጐንደር ተ ም ረዋል</td>\n",
       "      <td>../data/train/wav/tr_1_tr01001.wav</td>\n",
       "      <td>../data/train_new/tr_1_tr01001.wav</td>\n",
       "      <td>400</td>\n",
       "    </tr>\n",
       "    <tr>\n",
       "      <th>1</th>\n",
       "      <td>የተ ለቀቁት ምርኮኞች በ አካባቢያቸው ሰላማዊ ኑሮ እንዲ ኖሩ የ ትራንስፖ...</td>\n",
       "      <td>../data/train/wav/tr_2_tr01002.wav</td>\n",
       "      <td>../data/train_new/tr_2_tr01002.wav</td>\n",
       "      <td>400</td>\n",
       "    </tr>\n",
       "    <tr>\n",
       "      <th>2</th>\n",
       "      <td>በ አዲስ አበባው ስታዲየም በ ተካሄዱ ት ሁለት ግጥሚያ ዎች በ መጀመሪያ ...</td>\n",
       "      <td>../data/train/wav/tr_3_tr01003.wav</td>\n",
       "      <td>../data/train_new/tr_3_tr01003.wav</td>\n",
       "      <td>400</td>\n",
       "    </tr>\n",
       "    <tr>\n",
       "      <th>3</th>\n",
       "      <td>ወሬው ን ወሬ ያደረጉ ምስጢረ ኞች ናቸው</td>\n",
       "      <td>../data/train/wav/tr_4_tr01004.wav</td>\n",
       "      <td>../data/train_new/tr_4_tr01004.wav</td>\n",
       "      <td>400</td>\n",
       "    </tr>\n",
       "    <tr>\n",
       "      <th>4</th>\n",
       "      <td>ኢትዮጵያዊ ቷ በ ብሄራዊ ባህላዊ አለባበስ ከ አለም አንደኝነት ን ተቀዳጀ ች</td>\n",
       "      <td>../data/train/wav/tr_5_tr01005.wav</td>\n",
       "      <td>../data/train_new/tr_5_tr01005.wav</td>\n",
       "      <td>400</td>\n",
       "    </tr>\n",
       "  </tbody>\n",
       "</table>\n",
       "</div>"
      ],
      "text/plain": [
       "                                              Target  \\\n",
       "0                    ያንደኛ ደረጃ ትምህርታቸው ን ጐንደር ተ ም ረዋል   \n",
       "1  የተ ለቀቁት ምርኮኞች በ አካባቢያቸው ሰላማዊ ኑሮ እንዲ ኖሩ የ ትራንስፖ...   \n",
       "2  በ አዲስ አበባው ስታዲየም በ ተካሄዱ ት ሁለት ግጥሚያ ዎች በ መጀመሪያ ...   \n",
       "3                          ወሬው ን ወሬ ያደረጉ ምስጢረ ኞች ናቸው   \n",
       "4   ኢትዮጵያዊ ቷ በ ብሄራዊ ባህላዊ አለባበስ ከ አለም አንደኝነት ን ተቀዳጀ ች   \n",
       "\n",
       "                              Feature                              Output  \\\n",
       "0  ../data/train/wav/tr_1_tr01001.wav  ../data/train_new/tr_1_tr01001.wav   \n",
       "1  ../data/train/wav/tr_2_tr01002.wav  ../data/train_new/tr_2_tr01002.wav   \n",
       "2  ../data/train/wav/tr_3_tr01003.wav  ../data/train_new/tr_3_tr01003.wav   \n",
       "3  ../data/train/wav/tr_4_tr01004.wav  ../data/train_new/tr_4_tr01004.wav   \n",
       "4  ../data/train/wav/tr_5_tr01005.wav  ../data/train_new/tr_5_tr01005.wav   \n",
       "\n",
       "   n_channel  \n",
       "0        400  \n",
       "1        400  \n",
       "2        400  \n",
       "3        400  \n",
       "4        400  "
      ]
     },
     "execution_count": 10,
     "metadata": {},
     "output_type": "execute_result"
    }
   ],
   "source": [
    "meta_data.head()"
   ]
  },
  {
   "cell_type": "code",
   "execution_count": 11,
   "metadata": {},
   "outputs": [
    {
     "ename": "RuntimeError",
     "evalue": "Error opening 'd:\\\\!0 Acadamy\\\\week 4\\\\data\\\\train_new\\\\tr_10_tr01010.wav': Format not recognised.",
     "output_type": "error",
     "traceback": [
      "\u001b[1;31m---------------------------------------------------------------------------\u001b[0m",
      "\u001b[1;31mRuntimeError\u001b[0m                              Traceback (most recent call last)",
      "\u001b[1;32md:\\!0 Acadamy\\week 4\\notebooks\\preprocessing.ipynb Cell 20'\u001b[0m in \u001b[0;36m<cell line: 1>\u001b[1;34m()\u001b[0m\n\u001b[1;32m----> <a href='vscode-notebook-cell:/d%3A/%210%20Acadamy/week%204/notebooks/preprocessing.ipynb#ch0000019?line=0'>1</a>\u001b[0m DC\u001b[39m.\u001b[39;49mresize_pad_trunc(meta_data)\n",
      "File \u001b[1;32md:\\!0 Acadamy\\week 4\\notebooks\\../scripts\\data_cleaning.py:165\u001b[0m, in \u001b[0;36mDataCleaner.resize_pad_trunc\u001b[1;34m(self, df, max_ms)\u001b[0m\n\u001b[0;32m    <a href='file:///d%3A/%210%20Acadamy/week%204/notebooks/../scripts/data_cleaning.py?line=162'>163</a>\u001b[0m _,sampling_rate\u001b[39m=\u001b[39mlibrosa\u001b[39m.\u001b[39mload(data, sr\u001b[39m=\u001b[39m\u001b[39m44100\u001b[39m) \n\u001b[0;32m    <a href='file:///d%3A/%210%20Acadamy/week%204/notebooks/../scripts/data_cleaning.py?line=163'>164</a>\u001b[0m name \u001b[39m=\u001b[39m os\u001b[39m.\u001b[39mpath\u001b[39m.\u001b[39mjoin(output, audio_file)\n\u001b[1;32m--> <a href='file:///d%3A/%210%20Acadamy/week%204/notebooks/../scripts/data_cleaning.py?line=164'>165</a>\u001b[0m sf\u001b[39m.\u001b[39;49mwrite(path, trimmed\u001b[39m.\u001b[39;49mT, sampling_rate)\n",
      "File \u001b[1;32mc:\\Users\\hp\\anaconda3\\envs\\week1\\lib\\site-packages\\soundfile.py:314\u001b[0m, in \u001b[0;36mwrite\u001b[1;34m(file, data, samplerate, subtype, endian, format, closefd)\u001b[0m\n\u001b[0;32m    <a href='file:///c%3A/Users/hp/anaconda3/envs/week1/lib/site-packages/soundfile.py?line=311'>312</a>\u001b[0m \u001b[39melse\u001b[39;00m:\n\u001b[0;32m    <a href='file:///c%3A/Users/hp/anaconda3/envs/week1/lib/site-packages/soundfile.py?line=312'>313</a>\u001b[0m     channels \u001b[39m=\u001b[39m data\u001b[39m.\u001b[39mshape[\u001b[39m1\u001b[39m]\n\u001b[1;32m--> <a href='file:///c%3A/Users/hp/anaconda3/envs/week1/lib/site-packages/soundfile.py?line=313'>314</a>\u001b[0m \u001b[39mwith\u001b[39;00m SoundFile(file, \u001b[39m'\u001b[39;49m\u001b[39mw\u001b[39;49m\u001b[39m'\u001b[39;49m, samplerate, channels,\n\u001b[0;32m    <a href='file:///c%3A/Users/hp/anaconda3/envs/week1/lib/site-packages/soundfile.py?line=314'>315</a>\u001b[0m                subtype, endian, \u001b[39mformat\u001b[39;49m, closefd) \u001b[39mas\u001b[39;00m f:\n\u001b[0;32m    <a href='file:///c%3A/Users/hp/anaconda3/envs/week1/lib/site-packages/soundfile.py?line=315'>316</a>\u001b[0m     f\u001b[39m.\u001b[39mwrite(data)\n",
      "File \u001b[1;32mc:\\Users\\hp\\anaconda3\\envs\\week1\\lib\\site-packages\\soundfile.py:629\u001b[0m, in \u001b[0;36mSoundFile.__init__\u001b[1;34m(self, file, mode, samplerate, channels, subtype, endian, format, closefd)\u001b[0m\n\u001b[0;32m    <a href='file:///c%3A/Users/hp/anaconda3/envs/week1/lib/site-packages/soundfile.py?line=625'>626</a>\u001b[0m \u001b[39mself\u001b[39m\u001b[39m.\u001b[39m_mode \u001b[39m=\u001b[39m mode\n\u001b[0;32m    <a href='file:///c%3A/Users/hp/anaconda3/envs/week1/lib/site-packages/soundfile.py?line=626'>627</a>\u001b[0m \u001b[39mself\u001b[39m\u001b[39m.\u001b[39m_info \u001b[39m=\u001b[39m _create_info_struct(file, mode, samplerate, channels,\n\u001b[0;32m    <a href='file:///c%3A/Users/hp/anaconda3/envs/week1/lib/site-packages/soundfile.py?line=627'>628</a>\u001b[0m                                  \u001b[39mformat\u001b[39m, subtype, endian)\n\u001b[1;32m--> <a href='file:///c%3A/Users/hp/anaconda3/envs/week1/lib/site-packages/soundfile.py?line=628'>629</a>\u001b[0m \u001b[39mself\u001b[39m\u001b[39m.\u001b[39m_file \u001b[39m=\u001b[39m \u001b[39mself\u001b[39;49m\u001b[39m.\u001b[39;49m_open(file, mode_int, closefd)\n\u001b[0;32m    <a href='file:///c%3A/Users/hp/anaconda3/envs/week1/lib/site-packages/soundfile.py?line=629'>630</a>\u001b[0m \u001b[39mif\u001b[39;00m \u001b[39mset\u001b[39m(mode)\u001b[39m.\u001b[39missuperset(\u001b[39m'\u001b[39m\u001b[39mr+\u001b[39m\u001b[39m'\u001b[39m) \u001b[39mand\u001b[39;00m \u001b[39mself\u001b[39m\u001b[39m.\u001b[39mseekable():\n\u001b[0;32m    <a href='file:///c%3A/Users/hp/anaconda3/envs/week1/lib/site-packages/soundfile.py?line=630'>631</a>\u001b[0m     \u001b[39m# Move write position to 0 (like in Python file objects)\u001b[39;00m\n\u001b[0;32m    <a href='file:///c%3A/Users/hp/anaconda3/envs/week1/lib/site-packages/soundfile.py?line=631'>632</a>\u001b[0m     \u001b[39mself\u001b[39m\u001b[39m.\u001b[39mseek(\u001b[39m0\u001b[39m)\n",
      "File \u001b[1;32mc:\\Users\\hp\\anaconda3\\envs\\week1\\lib\\site-packages\\soundfile.py:1183\u001b[0m, in \u001b[0;36mSoundFile._open\u001b[1;34m(self, file, mode_int, closefd)\u001b[0m\n\u001b[0;32m   <a href='file:///c%3A/Users/hp/anaconda3/envs/week1/lib/site-packages/soundfile.py?line=1180'>1181</a>\u001b[0m \u001b[39melse\u001b[39;00m:\n\u001b[0;32m   <a href='file:///c%3A/Users/hp/anaconda3/envs/week1/lib/site-packages/soundfile.py?line=1181'>1182</a>\u001b[0m     \u001b[39mraise\u001b[39;00m \u001b[39mTypeError\u001b[39;00m(\u001b[39m\"\u001b[39m\u001b[39mInvalid file: \u001b[39m\u001b[39m{0!r}\u001b[39;00m\u001b[39m\"\u001b[39m\u001b[39m.\u001b[39mformat(\u001b[39mself\u001b[39m\u001b[39m.\u001b[39mname))\n\u001b[1;32m-> <a href='file:///c%3A/Users/hp/anaconda3/envs/week1/lib/site-packages/soundfile.py?line=1182'>1183</a>\u001b[0m _error_check(_snd\u001b[39m.\u001b[39;49msf_error(file_ptr),\n\u001b[0;32m   <a href='file:///c%3A/Users/hp/anaconda3/envs/week1/lib/site-packages/soundfile.py?line=1183'>1184</a>\u001b[0m              \u001b[39m\"\u001b[39;49m\u001b[39mError opening \u001b[39;49m\u001b[39m{0!r}\u001b[39;49;00m\u001b[39m: \u001b[39;49m\u001b[39m\"\u001b[39;49m\u001b[39m.\u001b[39;49mformat(\u001b[39mself\u001b[39;49m\u001b[39m.\u001b[39;49mname))\n\u001b[0;32m   <a href='file:///c%3A/Users/hp/anaconda3/envs/week1/lib/site-packages/soundfile.py?line=1184'>1185</a>\u001b[0m \u001b[39mif\u001b[39;00m mode_int \u001b[39m==\u001b[39m _snd\u001b[39m.\u001b[39mSFM_WRITE:\n\u001b[0;32m   <a href='file:///c%3A/Users/hp/anaconda3/envs/week1/lib/site-packages/soundfile.py?line=1185'>1186</a>\u001b[0m     \u001b[39m# Due to a bug in libsndfile version <= 1.0.25, frames != 0\u001b[39;00m\n\u001b[0;32m   <a href='file:///c%3A/Users/hp/anaconda3/envs/week1/lib/site-packages/soundfile.py?line=1186'>1187</a>\u001b[0m     \u001b[39m# when opening a named pipe in SFM_WRITE mode.\u001b[39;00m\n\u001b[0;32m   <a href='file:///c%3A/Users/hp/anaconda3/envs/week1/lib/site-packages/soundfile.py?line=1187'>1188</a>\u001b[0m     \u001b[39m# See http://github.com/erikd/libsndfile/issues/77.\u001b[39;00m\n\u001b[0;32m   <a href='file:///c%3A/Users/hp/anaconda3/envs/week1/lib/site-packages/soundfile.py?line=1188'>1189</a>\u001b[0m     \u001b[39mself\u001b[39m\u001b[39m.\u001b[39m_info\u001b[39m.\u001b[39mframes \u001b[39m=\u001b[39m \u001b[39m0\u001b[39m\n",
      "File \u001b[1;32mc:\\Users\\hp\\anaconda3\\envs\\week1\\lib\\site-packages\\soundfile.py:1357\u001b[0m, in \u001b[0;36m_error_check\u001b[1;34m(err, prefix)\u001b[0m\n\u001b[0;32m   <a href='file:///c%3A/Users/hp/anaconda3/envs/week1/lib/site-packages/soundfile.py?line=1354'>1355</a>\u001b[0m \u001b[39mif\u001b[39;00m err \u001b[39m!=\u001b[39m \u001b[39m0\u001b[39m:\n\u001b[0;32m   <a href='file:///c%3A/Users/hp/anaconda3/envs/week1/lib/site-packages/soundfile.py?line=1355'>1356</a>\u001b[0m     err_str \u001b[39m=\u001b[39m _snd\u001b[39m.\u001b[39msf_error_number(err)\n\u001b[1;32m-> <a href='file:///c%3A/Users/hp/anaconda3/envs/week1/lib/site-packages/soundfile.py?line=1356'>1357</a>\u001b[0m     \u001b[39mraise\u001b[39;00m \u001b[39mRuntimeError\u001b[39;00m(prefix \u001b[39m+\u001b[39m _ffi\u001b[39m.\u001b[39mstring(err_str)\u001b[39m.\u001b[39mdecode(\u001b[39m'\u001b[39m\u001b[39mutf-8\u001b[39m\u001b[39m'\u001b[39m, \u001b[39m'\u001b[39m\u001b[39mreplace\u001b[39m\u001b[39m'\u001b[39m))\n",
      "\u001b[1;31mRuntimeError\u001b[0m: Error opening 'd:\\\\!0 Acadamy\\\\week 4\\\\data\\\\train_new\\\\tr_10_tr01010.wav': Format not recognised."
     ]
    }
   ],
   "source": [
    "DC.resize_pad_trunc(meta_data)"
   ]
  },
  {
   "cell_type": "code",
   "execution_count": null,
   "metadata": {},
   "outputs": [],
   "source": []
  }
 ],
 "metadata": {
  "interpreter": {
   "hash": "af3b5149a5eded4321c57d7197d471db046016918ba9e1579f3b1a0b4f8e1211"
  },
  "kernelspec": {
   "display_name": "Python 3.9.12 ('week1')",
   "language": "python",
   "name": "python3"
  },
  "language_info": {
   "codemirror_mode": {
    "name": "ipython",
    "version": 3
   },
   "file_extension": ".py",
   "mimetype": "text/x-python",
   "name": "python",
   "nbconvert_exporter": "python",
   "pygments_lexer": "ipython3",
   "version": "3.9.12"
  },
  "orig_nbformat": 4
 },
 "nbformat": 4,
 "nbformat_minor": 2
}
