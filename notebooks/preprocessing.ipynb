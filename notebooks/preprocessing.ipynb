{
 "cells": [
  {
   "cell_type": "markdown",
   "metadata": {},
   "source": [
    "## Data Preprocessing"
   ]
  },
  {
   "cell_type": "code",
   "execution_count": 1,
   "metadata": {},
   "outputs": [],
   "source": [
    "# loading libraries\n",
    "import librosa   #for audio processing\n",
    "import librosa.display\n",
    "import wave\n",
    "import IPython.display as ipd\n",
    "import matplotlib.pyplot as plt\n",
    "import numpy as np\n",
    "import pandas as pd\n",
    "import matplotlib.pylab as plt\n",
    "import seaborn as sns\n",
    "import sys\n",
    "from scipy.io import wavfile #for audio processing\n",
    "import warnings\n",
    "warnings.filterwarnings(\"ignore\")"
   ]
  },
  {
   "cell_type": "code",
   "execution_count": 2,
   "metadata": {},
   "outputs": [],
   "source": [
    "# loading scripts\n",
    "sys.path.insert(1, '../scripts')\n",
    "sys.path.append(\"..\")\n",
    "sys.path.append(\".\")\n",
    "\n",
    "from data_cleaning import DataCleaner\n",
    "from data_viz import Data_Viz\n",
    "\n",
    "DC = DataCleaner(\"../logs/preprocessing_notebook.log\")\n",
    "DV = Data_Viz()"
   ]
  },
  {
   "cell_type": "markdown",
   "metadata": {},
   "source": [
    "## Load metadata"
   ]
  },
  {
   "cell_type": "code",
   "execution_count": 3,
   "metadata": {},
   "outputs": [
    {
     "data": {
      "text/html": [
       "<div>\n",
       "<style scoped>\n",
       "    .dataframe tbody tr th:only-of-type {\n",
       "        vertical-align: middle;\n",
       "    }\n",
       "\n",
       "    .dataframe tbody tr th {\n",
       "        vertical-align: top;\n",
       "    }\n",
       "\n",
       "    .dataframe thead th {\n",
       "        text-align: right;\n",
       "    }\n",
       "</style>\n",
       "<table border=\"1\" class=\"dataframe\">\n",
       "  <thead>\n",
       "    <tr style=\"text-align: right;\">\n",
       "      <th></th>\n",
       "      <th>Target</th>\n",
       "      <th>Feature</th>\n",
       "      <th>Output</th>\n",
       "    </tr>\n",
       "  </thead>\n",
       "  <tbody>\n",
       "    <tr>\n",
       "      <th>0</th>\n",
       "      <td>ያንደኛ ደረጃ ትምህርታቸው ን ጐንደር ተ ም ረዋል</td>\n",
       "      <td>../data/train/wav/tr_1_tr01001.wav</td>\n",
       "      <td>../data/train_new/tr_1_tr01001.wav</td>\n",
       "    </tr>\n",
       "    <tr>\n",
       "      <th>1</th>\n",
       "      <td>የተ ለቀቁት ምርኮኞች በ አካባቢያቸው ሰላማዊ ኑሮ እንዲ ኖሩ የ ትራንስፖ...</td>\n",
       "      <td>../data/train/wav/tr_2_tr01002.wav</td>\n",
       "      <td>../data/train_new/tr_2_tr01002.wav</td>\n",
       "    </tr>\n",
       "    <tr>\n",
       "      <th>2</th>\n",
       "      <td>በ አዲስ አበባው ስታዲየም በ ተካሄዱ ት ሁለት ግጥሚያ ዎች በ መጀመሪያ ...</td>\n",
       "      <td>../data/train/wav/tr_3_tr01003.wav</td>\n",
       "      <td>../data/train_new/tr_3_tr01003.wav</td>\n",
       "    </tr>\n",
       "    <tr>\n",
       "      <th>3</th>\n",
       "      <td>ወሬው ን ወሬ ያደረጉ ምስጢረ ኞች ናቸው</td>\n",
       "      <td>../data/train/wav/tr_4_tr01004.wav</td>\n",
       "      <td>../data/train_new/tr_4_tr01004.wav</td>\n",
       "    </tr>\n",
       "    <tr>\n",
       "      <th>4</th>\n",
       "      <td>ኢትዮጵያዊ ቷ በ ብሄራዊ ባህላዊ አለባበስ ከ አለም አንደኝነት ን ተቀዳጀ ች</td>\n",
       "      <td>../data/train/wav/tr_5_tr01005.wav</td>\n",
       "      <td>../data/train_new/tr_5_tr01005.wav</td>\n",
       "    </tr>\n",
       "  </tbody>\n",
       "</table>\n",
       "</div>"
      ],
      "text/plain": [
       "                                              Target  \\\n",
       "0                    ያንደኛ ደረጃ ትምህርታቸው ን ጐንደር ተ ም ረዋል   \n",
       "1  የተ ለቀቁት ምርኮኞች በ አካባቢያቸው ሰላማዊ ኑሮ እንዲ ኖሩ የ ትራንስፖ...   \n",
       "2  በ አዲስ አበባው ስታዲየም በ ተካሄዱ ት ሁለት ግጥሚያ ዎች በ መጀመሪያ ...   \n",
       "3                          ወሬው ን ወሬ ያደረጉ ምስጢረ ኞች ናቸው   \n",
       "4   ኢትዮጵያዊ ቷ በ ብሄራዊ ባህላዊ አለባበስ ከ አለም አንደኝነት ን ተቀዳጀ ች   \n",
       "\n",
       "                              Feature                              Output  \n",
       "0  ../data/train/wav/tr_1_tr01001.wav  ../data/train_new/tr_1_tr01001.wav  \n",
       "1  ../data/train/wav/tr_2_tr01002.wav  ../data/train_new/tr_2_tr01002.wav  \n",
       "2  ../data/train/wav/tr_3_tr01003.wav  ../data/train_new/tr_3_tr01003.wav  \n",
       "3  ../data/train/wav/tr_4_tr01004.wav  ../data/train_new/tr_4_tr01004.wav  \n",
       "4  ../data/train/wav/tr_5_tr01005.wav  ../data/train_new/tr_5_tr01005.wav  "
      ]
     },
     "execution_count": 3,
     "metadata": {},
     "output_type": "execute_result"
    }
   ],
   "source": [
    "# loading meta data\n",
    "path = \"../data/train\"\n",
    "output = \"../data/train_new\"\n",
    "\n",
    "meta_data = DC.generate_metadata(path, output)\n",
    "meta_data.head()\n"
   ]
  },
  {
   "cell_type": "code",
   "execution_count": 4,
   "metadata": {},
   "outputs": [
    {
     "data": {
      "text/html": [
       "<div>\n",
       "<style scoped>\n",
       "    .dataframe tbody tr th:only-of-type {\n",
       "        vertical-align: middle;\n",
       "    }\n",
       "\n",
       "    .dataframe tbody tr th {\n",
       "        vertical-align: top;\n",
       "    }\n",
       "\n",
       "    .dataframe thead th {\n",
       "        text-align: right;\n",
       "    }\n",
       "</style>\n",
       "<table border=\"1\" class=\"dataframe\">\n",
       "  <thead>\n",
       "    <tr style=\"text-align: right;\">\n",
       "      <th></th>\n",
       "      <th>Target</th>\n",
       "      <th>Feature</th>\n",
       "      <th>Output</th>\n",
       "      <th>Duration</th>\n",
       "    </tr>\n",
       "  </thead>\n",
       "  <tbody>\n",
       "    <tr>\n",
       "      <th>9</th>\n",
       "      <td>ግን ወደ ኋላው ላይ ኢሳያስ እንደ ልማ ዳቸው ሁሉን ም የ መልከ ፍ ዲፕሎ...</td>\n",
       "      <td>../data/train/wav/tr_10_tr01010.wav</td>\n",
       "      <td>../data/train_new/tr_10_tr01010.wav</td>\n",
       "      <td>10.368</td>\n",
       "    </tr>\n",
       "    <tr>\n",
       "      <th>99</th>\n",
       "      <td>አለቃ የጻፏቸው መጽሀፍት ውድ ና ጣፋጭ ከ መሆናቸው የተነሳ በ ህትመታቸው...</td>\n",
       "      <td>../data/train/wav/tr_100_tr01100.wav</td>\n",
       "      <td>../data/train_new/tr_100_tr01100.wav</td>\n",
       "      <td>14.592</td>\n",
       "    </tr>\n",
       "    <tr>\n",
       "      <th>100</th>\n",
       "      <td>በ ኮምፒውተር ሳይንስ ፎን ት ቴክኖሎጂ ለ ዶክትሬት ዲግሪ ጥናት እያደረጉ...</td>\n",
       "      <td>../data/train/wav/tr_101_tr02001.wav</td>\n",
       "      <td>../data/train_new/tr_101_tr02001.wav</td>\n",
       "      <td>7.936</td>\n",
       "    </tr>\n",
       "    <tr>\n",
       "      <th>101</th>\n",
       "      <td>የ ውሀው ዘርፍ ያለበት ን የ ፋይናንስ ችግር ለ መፍታት የ ውሀ ሀብት ል...</td>\n",
       "      <td>../data/train/wav/tr_102_tr02002.wav</td>\n",
       "      <td>../data/train_new/tr_102_tr02002.wav</td>\n",
       "      <td>6.528</td>\n",
       "    </tr>\n",
       "    <tr>\n",
       "      <th>102</th>\n",
       "      <td>የ መንገደኞች ማስተናገጃ ህንጻው በ ሰአት እስከ ሶስት ሺ ያህል መንገደኞ...</td>\n",
       "      <td>../data/train/wav/tr_103_tr02003.wav</td>\n",
       "      <td>../data/train_new/tr_103_tr02003.wav</td>\n",
       "      <td>6.528</td>\n",
       "    </tr>\n",
       "  </tbody>\n",
       "</table>\n",
       "</div>"
      ],
      "text/plain": [
       "                                                Target  \\\n",
       "9    ግን ወደ ኋላው ላይ ኢሳያስ እንደ ልማ ዳቸው ሁሉን ም የ መልከ ፍ ዲፕሎ...   \n",
       "99   አለቃ የጻፏቸው መጽሀፍት ውድ ና ጣፋጭ ከ መሆናቸው የተነሳ በ ህትመታቸው...   \n",
       "100  በ ኮምፒውተር ሳይንስ ፎን ት ቴክኖሎጂ ለ ዶክትሬት ዲግሪ ጥናት እያደረጉ...   \n",
       "101  የ ውሀው ዘርፍ ያለበት ን የ ፋይናንስ ችግር ለ መፍታት የ ውሀ ሀብት ል...   \n",
       "102  የ መንገደኞች ማስተናገጃ ህንጻው በ ሰአት እስከ ሶስት ሺ ያህል መንገደኞ...   \n",
       "\n",
       "                                  Feature  \\\n",
       "9     ../data/train/wav/tr_10_tr01010.wav   \n",
       "99   ../data/train/wav/tr_100_tr01100.wav   \n",
       "100  ../data/train/wav/tr_101_tr02001.wav   \n",
       "101  ../data/train/wav/tr_102_tr02002.wav   \n",
       "102  ../data/train/wav/tr_103_tr02003.wav   \n",
       "\n",
       "                                   Output  Duration  \n",
       "9     ../data/train_new/tr_10_tr01010.wav    10.368  \n",
       "99   ../data/train_new/tr_100_tr01100.wav    14.592  \n",
       "100  ../data/train_new/tr_101_tr02001.wav     7.936  \n",
       "101  ../data/train_new/tr_102_tr02002.wav     6.528  \n",
       "102  ../data/train_new/tr_103_tr02003.wav     6.528  "
      ]
     },
     "execution_count": 4,
     "metadata": {},
     "output_type": "execute_result"
    }
   ],
   "source": [
    "# adding duration column\n",
    "\n",
    "DC.add_duration(meta_data)\n",
    "selection = meta_data[meta_data[\"Duration\"] != 400]\n",
    "selection.head()"
   ]
  },
  {
   "cell_type": "markdown",
   "metadata": {},
   "source": [
    "## Standardize Sampling Rate"
   ]
  },
  {
   "cell_type": "code",
   "execution_count": 5,
   "metadata": {},
   "outputs": [
    {
     "data": {
      "text/plain": [
       "_wave_params(nchannels=1, sampwidth=2, framerate=16000, nframes=165888, comptype='NONE', compname='not compressed')"
      ]
     },
     "execution_count": 5,
     "metadata": {},
     "output_type": "execute_result"
    }
   ],
   "source": [
    "# checking rate before standardizing\n",
    "\n",
    "data =  wave.open('../data/train/wav/tr_10_tr01010.wav')\n",
    "data.getparams()"
   ]
  },
  {
   "cell_type": "code",
   "execution_count": 6,
   "metadata": {},
   "outputs": [
    {
     "data": {
      "image/png": "[encoded data removed]",
      "text/plain": [
       "<Figure size 432x288 with 1 Axes>"
      ]
     },
     "metadata": {
      "needs_background": "light"
     },
     "output_type": "display_data"
    }
   ],
   "source": [
    "DV.visualize('../data/train/wav/tr_10_tr01010.wav')"
   ]
  },
  {
   "cell_type": "code",
   "execution_count": 7,
   "metadata": {},
   "outputs": [],
   "source": [
    "DC.standardize(meta_data)"
   ]
  },
  {
   "cell_type": "code",
   "execution_count": 8,
   "metadata": {},
   "outputs": [
    {
     "data": {
      "text/plain": [
       "_wave_params(nchannels=1, sampwidth=2, framerate=44100, nframes=457227, comptype='NONE', compname='not compressed')"
      ]
     },
     "execution_count": 8,
     "metadata": {},
     "output_type": "execute_result"
    }
   ],
   "source": [
    "# checking rate after standardizing \n",
    "data =  wave.open('../data/train_new/tr_10_tr01010.wav')\n",
    "data.getparams()"
   ]
  },
  {
   "cell_type": "code",
   "execution_count": 9,
   "metadata": {},
   "outputs": [
    {
     "data": {
      "image/png": "[encoded data removed]",
      "text/plain": [
       "<Figure size 432x288 with 1 Axes>"
      ]
     },
     "metadata": {
      "needs_background": "light"
     },
     "output_type": "display_data"
    }
   ],
   "source": [
    "DV.visualize('../data/train_new/tr_10_tr01010.wav')"
   ]
  },
  {
   "cell_type": "markdown",
   "metadata": {},
   "source": [
    "**Observation**\n",
    "- sample rates have been sucessfully standardized\n",
    "- framrate = 44100\n"
   ]
  },
  {
   "cell_type": "markdown",
   "metadata": {},
   "source": [
    "## Resizing Audio Samples"
   ]
  },
  {
   "cell_type": "code",
   "execution_count": 10,
   "metadata": {},
   "outputs": [
    {
     "data": {
      "text/html": [
       "<div>\n",
       "<style scoped>\n",
       "    .dataframe tbody tr th:only-of-type {\n",
       "        vertical-align: middle;\n",
       "    }\n",
       "\n",
       "    .dataframe tbody tr th {\n",
       "        vertical-align: top;\n",
       "    }\n",
       "\n",
       "    .dataframe thead th {\n",
       "        text-align: right;\n",
       "    }\n",
       "</style>\n",
       "<table border=\"1\" class=\"dataframe\">\n",
       "  <thead>\n",
       "    <tr style=\"text-align: right;\">\n",
       "      <th></th>\n",
       "      <th>Target</th>\n",
       "      <th>Feature</th>\n",
       "      <th>Output</th>\n",
       "      <th>Duration</th>\n",
       "    </tr>\n",
       "  </thead>\n",
       "  <tbody>\n",
       "    <tr>\n",
       "      <th>9</th>\n",
       "      <td>ግን ወደ ኋላው ላይ ኢሳያስ እንደ ልማ ዳቸው ሁሉን ም የ መልከ ፍ ዲፕሎ...</td>\n",
       "      <td>../data/train/wav/tr_10_tr01010.wav</td>\n",
       "      <td>../data/train_new/tr_10_tr01010.wav</td>\n",
       "      <td>10.367959</td>\n",
       "    </tr>\n",
       "    <tr>\n",
       "      <th>99</th>\n",
       "      <td>አለቃ የጻፏቸው መጽሀፍት ውድ ና ጣፋጭ ከ መሆናቸው የተነሳ በ ህትመታቸው...</td>\n",
       "      <td>../data/train/wav/tr_100_tr01100.wav</td>\n",
       "      <td>../data/train_new/tr_100_tr01100.wav</td>\n",
       "      <td>14.591950</td>\n",
       "    </tr>\n",
       "    <tr>\n",
       "      <th>100</th>\n",
       "      <td>በ ኮምፒውተር ሳይንስ ፎን ት ቴክኖሎጂ ለ ዶክትሬት ዲግሪ ጥናት እያደረጉ...</td>\n",
       "      <td>../data/train/wav/tr_101_tr02001.wav</td>\n",
       "      <td>../data/train_new/tr_101_tr02001.wav</td>\n",
       "      <td>7.935941</td>\n",
       "    </tr>\n",
       "    <tr>\n",
       "      <th>101</th>\n",
       "      <td>የ ውሀው ዘርፍ ያለበት ን የ ፋይናንስ ችግር ለ መፍታት የ ውሀ ሀብት ል...</td>\n",
       "      <td>../data/train/wav/tr_102_tr02002.wav</td>\n",
       "      <td>../data/train_new/tr_102_tr02002.wav</td>\n",
       "      <td>6.527959</td>\n",
       "    </tr>\n",
       "    <tr>\n",
       "      <th>102</th>\n",
       "      <td>የ መንገደኞች ማስተናገጃ ህንጻው በ ሰአት እስከ ሶስት ሺ ያህል መንገደኞ...</td>\n",
       "      <td>../data/train/wav/tr_103_tr02003.wav</td>\n",
       "      <td>../data/train_new/tr_103_tr02003.wav</td>\n",
       "      <td>6.527959</td>\n",
       "    </tr>\n",
       "  </tbody>\n",
       "</table>\n",
       "</div>"
      ],
      "text/plain": [
       "                                                Target  \\\n",
       "9    ግን ወደ ኋላው ላይ ኢሳያስ እንደ ልማ ዳቸው ሁሉን ም የ መልከ ፍ ዲፕሎ...   \n",
       "99   አለቃ የጻፏቸው መጽሀፍት ውድ ና ጣፋጭ ከ መሆናቸው የተነሳ በ ህትመታቸው...   \n",
       "100  በ ኮምፒውተር ሳይንስ ፎን ት ቴክኖሎጂ ለ ዶክትሬት ዲግሪ ጥናት እያደረጉ...   \n",
       "101  የ ውሀው ዘርፍ ያለበት ን የ ፋይናንስ ችግር ለ መፍታት የ ውሀ ሀብት ል...   \n",
       "102  የ መንገደኞች ማስተናገጃ ህንጻው በ ሰአት እስከ ሶስት ሺ ያህል መንገደኞ...   \n",
       "\n",
       "                                  Feature  \\\n",
       "9     ../data/train/wav/tr_10_tr01010.wav   \n",
       "99   ../data/train/wav/tr_100_tr01100.wav   \n",
       "100  ../data/train/wav/tr_101_tr02001.wav   \n",
       "101  ../data/train/wav/tr_102_tr02002.wav   \n",
       "102  ../data/train/wav/tr_103_tr02003.wav   \n",
       "\n",
       "                                   Output   Duration  \n",
       "9     ../data/train_new/tr_10_tr01010.wav  10.367959  \n",
       "99   ../data/train_new/tr_100_tr01100.wav  14.591950  \n",
       "100  ../data/train_new/tr_101_tr02001.wav   7.935941  \n",
       "101  ../data/train_new/tr_102_tr02002.wav   6.527959  \n",
       "102  ../data/train_new/tr_103_tr02003.wav   6.527959  "
      ]
     },
     "execution_count": 10,
     "metadata": {},
     "output_type": "execute_result"
    }
   ],
   "source": [
    "# checking duration before resizing\n",
    "\n",
    "meta_data= DC.add_duration(meta_data, output= True)\n",
    "selection = meta_data[meta_data[\"Duration\"] != 400]\n",
    "selection.head()"
   ]
  },
  {
   "cell_type": "code",
   "execution_count": 11,
   "metadata": {},
   "outputs": [],
   "source": [
    "DC.resize_pad_trunc(meta_data, 5000)"
   ]
  },
  {
   "cell_type": "code",
   "execution_count": 12,
   "metadata": {},
   "outputs": [
    {
     "data": {
      "text/html": [
       "<div>\n",
       "<style scoped>\n",
       "    .dataframe tbody tr th:only-of-type {\n",
       "        vertical-align: middle;\n",
       "    }\n",
       "\n",
       "    .dataframe tbody tr th {\n",
       "        vertical-align: top;\n",
       "    }\n",
       "\n",
       "    .dataframe thead th {\n",
       "        text-align: right;\n",
       "    }\n",
       "</style>\n",
       "<table border=\"1\" class=\"dataframe\">\n",
       "  <thead>\n",
       "    <tr style=\"text-align: right;\">\n",
       "      <th></th>\n",
       "      <th>Target</th>\n",
       "      <th>Feature</th>\n",
       "      <th>Output</th>\n",
       "      <th>Duration</th>\n",
       "    </tr>\n",
       "  </thead>\n",
       "  <tbody>\n",
       "    <tr>\n",
       "      <th>9</th>\n",
       "      <td>ግን ወደ ኋላው ላይ ኢሳያስ እንደ ልማ ዳቸው ሁሉን ም የ መልከ ፍ ዲፕሎ...</td>\n",
       "      <td>../data/train/wav/tr_10_tr01010.wav</td>\n",
       "      <td>../data/train_new/tr_10_tr01010.wav</td>\n",
       "      <td>4.988662</td>\n",
       "    </tr>\n",
       "    <tr>\n",
       "      <th>99</th>\n",
       "      <td>አለቃ የጻፏቸው መጽሀፍት ውድ ና ጣፋጭ ከ መሆናቸው የተነሳ በ ህትመታቸው...</td>\n",
       "      <td>../data/train/wav/tr_100_tr01100.wav</td>\n",
       "      <td>../data/train_new/tr_100_tr01100.wav</td>\n",
       "      <td>4.988662</td>\n",
       "    </tr>\n",
       "    <tr>\n",
       "      <th>100</th>\n",
       "      <td>በ ኮምፒውተር ሳይንስ ፎን ት ቴክኖሎጂ ለ ዶክትሬት ዲግሪ ጥናት እያደረጉ...</td>\n",
       "      <td>../data/train/wav/tr_101_tr02001.wav</td>\n",
       "      <td>../data/train_new/tr_101_tr02001.wav</td>\n",
       "      <td>4.988662</td>\n",
       "    </tr>\n",
       "    <tr>\n",
       "      <th>101</th>\n",
       "      <td>የ ውሀው ዘርፍ ያለበት ን የ ፋይናንስ ችግር ለ መፍታት የ ውሀ ሀብት ል...</td>\n",
       "      <td>../data/train/wav/tr_102_tr02002.wav</td>\n",
       "      <td>../data/train_new/tr_102_tr02002.wav</td>\n",
       "      <td>4.988662</td>\n",
       "    </tr>\n",
       "    <tr>\n",
       "      <th>102</th>\n",
       "      <td>የ መንገደኞች ማስተናገጃ ህንጻው በ ሰአት እስከ ሶስት ሺ ያህል መንገደኞ...</td>\n",
       "      <td>../data/train/wav/tr_103_tr02003.wav</td>\n",
       "      <td>../data/train_new/tr_103_tr02003.wav</td>\n",
       "      <td>4.988662</td>\n",
       "    </tr>\n",
       "  </tbody>\n",
       "</table>\n",
       "</div>"
      ],
      "text/plain": [
       "                                                Target  \\\n",
       "9    ግን ወደ ኋላው ላይ ኢሳያስ እንደ ልማ ዳቸው ሁሉን ም የ መልከ ፍ ዲፕሎ...   \n",
       "99   አለቃ የጻፏቸው መጽሀፍት ውድ ና ጣፋጭ ከ መሆናቸው የተነሳ በ ህትመታቸው...   \n",
       "100  በ ኮምፒውተር ሳይንስ ፎን ት ቴክኖሎጂ ለ ዶክትሬት ዲግሪ ጥናት እያደረጉ...   \n",
       "101  የ ውሀው ዘርፍ ያለበት ን የ ፋይናንስ ችግር ለ መፍታት የ ውሀ ሀብት ል...   \n",
       "102  የ መንገደኞች ማስተናገጃ ህንጻው በ ሰአት እስከ ሶስት ሺ ያህል መንገደኞ...   \n",
       "\n",
       "                                  Feature  \\\n",
       "9     ../data/train/wav/tr_10_tr01010.wav   \n",
       "99   ../data/train/wav/tr_100_tr01100.wav   \n",
       "100  ../data/train/wav/tr_101_tr02001.wav   \n",
       "101  ../data/train/wav/tr_102_tr02002.wav   \n",
       "102  ../data/train/wav/tr_103_tr02003.wav   \n",
       "\n",
       "                                   Output  Duration  \n",
       "9     ../data/train_new/tr_10_tr01010.wav  4.988662  \n",
       "99   ../data/train_new/tr_100_tr01100.wav  4.988662  \n",
       "100  ../data/train_new/tr_101_tr02001.wav  4.988662  \n",
       "101  ../data/train_new/tr_102_tr02002.wav  4.988662  \n",
       "102  ../data/train_new/tr_103_tr02003.wav  4.988662  "
      ]
     },
     "execution_count": 12,
     "metadata": {},
     "output_type": "execute_result"
    }
   ],
   "source": [
    "# checking truncated result\n",
    "meta_data= DC.add_duration(meta_data, output= True)\n",
    "selection = meta_data[meta_data[\"Duration\"] != 400]\n",
    "selection.head()"
   ]
  },
  {
   "cell_type": "markdown",
   "metadata": {},
   "source": [
    "## Convert Mono to Stereo"
   ]
  },
  {
   "cell_type": "code",
   "execution_count": 13,
   "metadata": {},
   "outputs": [
    {
     "data": {
      "text/html": [
       "<div>\n",
       "<style scoped>\n",
       "    .dataframe tbody tr th:only-of-type {\n",
       "        vertical-align: middle;\n",
       "    }\n",
       "\n",
       "    .dataframe tbody tr th {\n",
       "        vertical-align: top;\n",
       "    }\n",
       "\n",
       "    .dataframe thead th {\n",
       "        text-align: right;\n",
       "    }\n",
       "</style>\n",
       "<table border=\"1\" class=\"dataframe\">\n",
       "  <thead>\n",
       "    <tr style=\"text-align: right;\">\n",
       "      <th></th>\n",
       "      <th>Target</th>\n",
       "      <th>Feature</th>\n",
       "      <th>Output</th>\n",
       "      <th>Duration</th>\n",
       "      <th>n_channel</th>\n",
       "    </tr>\n",
       "  </thead>\n",
       "  <tbody>\n",
       "    <tr>\n",
       "      <th>9</th>\n",
       "      <td>ግን ወደ ኋላው ላይ ኢሳያስ እንደ ልማ ዳቸው ሁሉን ም የ መልከ ፍ ዲፕሎ...</td>\n",
       "      <td>../data/train/wav/tr_10_tr01010.wav</td>\n",
       "      <td>../data/train_new/tr_10_tr01010.wav</td>\n",
       "      <td>4.988662</td>\n",
       "      <td>1</td>\n",
       "    </tr>\n",
       "    <tr>\n",
       "      <th>99</th>\n",
       "      <td>አለቃ የጻፏቸው መጽሀፍት ውድ ና ጣፋጭ ከ መሆናቸው የተነሳ በ ህትመታቸው...</td>\n",
       "      <td>../data/train/wav/tr_100_tr01100.wav</td>\n",
       "      <td>../data/train_new/tr_100_tr01100.wav</td>\n",
       "      <td>4.988662</td>\n",
       "      <td>1</td>\n",
       "    </tr>\n",
       "    <tr>\n",
       "      <th>100</th>\n",
       "      <td>በ ኮምፒውተር ሳይንስ ፎን ት ቴክኖሎጂ ለ ዶክትሬት ዲግሪ ጥናት እያደረጉ...</td>\n",
       "      <td>../data/train/wav/tr_101_tr02001.wav</td>\n",
       "      <td>../data/train_new/tr_101_tr02001.wav</td>\n",
       "      <td>4.988662</td>\n",
       "      <td>1</td>\n",
       "    </tr>\n",
       "    <tr>\n",
       "      <th>101</th>\n",
       "      <td>የ ውሀው ዘርፍ ያለበት ን የ ፋይናንስ ችግር ለ መፍታት የ ውሀ ሀብት ል...</td>\n",
       "      <td>../data/train/wav/tr_102_tr02002.wav</td>\n",
       "      <td>../data/train_new/tr_102_tr02002.wav</td>\n",
       "      <td>4.988662</td>\n",
       "      <td>1</td>\n",
       "    </tr>\n",
       "    <tr>\n",
       "      <th>102</th>\n",
       "      <td>የ መንገደኞች ማስተናገጃ ህንጻው በ ሰአት እስከ ሶስት ሺ ያህል መንገደኞ...</td>\n",
       "      <td>../data/train/wav/tr_103_tr02003.wav</td>\n",
       "      <td>../data/train_new/tr_103_tr02003.wav</td>\n",
       "      <td>4.988662</td>\n",
       "      <td>1</td>\n",
       "    </tr>\n",
       "  </tbody>\n",
       "</table>\n",
       "</div>"
      ],
      "text/plain": [
       "                                                Target  \\\n",
       "9    ግን ወደ ኋላው ላይ ኢሳያስ እንደ ልማ ዳቸው ሁሉን ም የ መልከ ፍ ዲፕሎ...   \n",
       "99   አለቃ የጻፏቸው መጽሀፍት ውድ ና ጣፋጭ ከ መሆናቸው የተነሳ በ ህትመታቸው...   \n",
       "100  በ ኮምፒውተር ሳይንስ ፎን ት ቴክኖሎጂ ለ ዶክትሬት ዲግሪ ጥናት እያደረጉ...   \n",
       "101  የ ውሀው ዘርፍ ያለበት ን የ ፋይናንስ ችግር ለ መፍታት የ ውሀ ሀብት ል...   \n",
       "102  የ መንገደኞች ማስተናገጃ ህንጻው በ ሰአት እስከ ሶስት ሺ ያህል መንገደኞ...   \n",
       "\n",
       "                                  Feature  \\\n",
       "9     ../data/train/wav/tr_10_tr01010.wav   \n",
       "99   ../data/train/wav/tr_100_tr01100.wav   \n",
       "100  ../data/train/wav/tr_101_tr02001.wav   \n",
       "101  ../data/train/wav/tr_102_tr02002.wav   \n",
       "102  ../data/train/wav/tr_103_tr02003.wav   \n",
       "\n",
       "                                   Output  Duration  n_channel  \n",
       "9     ../data/train_new/tr_10_tr01010.wav  4.988662          1  \n",
       "99   ../data/train_new/tr_100_tr01100.wav  4.988662          1  \n",
       "100  ../data/train_new/tr_101_tr02001.wav  4.988662          1  \n",
       "101  ../data/train_new/tr_102_tr02002.wav  4.988662          1  \n",
       "102  ../data/train_new/tr_103_tr02003.wav  4.988662          1  "
      ]
     },
     "execution_count": 13,
     "metadata": {},
     "output_type": "execute_result"
    }
   ],
   "source": [
    "# adding new column for channels count\n",
    "\n",
    "meta_data= DC.channel_count(meta_data)\n",
    "selection = meta_data[meta_data[\"Duration\"] != 400]\n",
    "selection.head()"
   ]
  },
  {
   "cell_type": "code",
   "execution_count": 14,
   "metadata": {},
   "outputs": [
    {
     "data": {
      "text/plain": [
       "400    10868\n",
       "1          7\n",
       "Name: n_channel, dtype: int64"
      ]
     },
     "execution_count": 14,
     "metadata": {},
     "output_type": "execute_result"
    }
   ],
   "source": [
    "# checking number of channels\n",
    "\n",
    "meta_data[\"n_channel\"].value_counts()"
   ]
  },
  {
   "cell_type": "markdown",
   "metadata": {},
   "source": [
    "**Observation**\n",
    "- All the loadded audio samples are mono\n",
    "- 400 is just a placeholder for missing audio files \n",
    "  because only a limited number of samples are taken for development\n",
    "  This will not be present when the data is complete."
   ]
  },
  {
   "cell_type": "code",
   "execution_count": 15,
   "metadata": {},
   "outputs": [],
   "source": [
    "# Converting to stereo\n",
    "\n",
    "DC.make_stereo(meta_data, True)"
   ]
  },
  {
   "cell_type": "code",
   "execution_count": 16,
   "metadata": {},
   "outputs": [
    {
     "name": "stdout",
     "output_type": "stream",
     "text": [
      "the parameters are:  _wave_params(nchannels=2, sampwidth=2, framerate=44100, nframes=220000, comptype='NONE', compname='not compressed')\n"
     ]
    },
    {
     "data": {
      "text/html": [
       "<div>\n",
       "<style scoped>\n",
       "    .dataframe tbody tr th:only-of-type {\n",
       "        vertical-align: middle;\n",
       "    }\n",
       "\n",
       "    .dataframe tbody tr th {\n",
       "        vertical-align: top;\n",
       "    }\n",
       "\n",
       "    .dataframe thead th {\n",
       "        text-align: right;\n",
       "    }\n",
       "</style>\n",
       "<table border=\"1\" class=\"dataframe\">\n",
       "  <thead>\n",
       "    <tr style=\"text-align: right;\">\n",
       "      <th></th>\n",
       "      <th>Target</th>\n",
       "      <th>Feature</th>\n",
       "      <th>Output</th>\n",
       "      <th>Duration</th>\n",
       "      <th>n_channel</th>\n",
       "    </tr>\n",
       "  </thead>\n",
       "  <tbody>\n",
       "    <tr>\n",
       "      <th>9</th>\n",
       "      <td>ግን ወደ ኋላው ላይ ኢሳያስ እንደ ልማ ዳቸው ሁሉን ም የ መልከ ፍ ዲፕሎ...</td>\n",
       "      <td>../data/train/wav/tr_10_tr01010.wav</td>\n",
       "      <td>../data/train_new/tr_10_tr01010.wav</td>\n",
       "      <td>4.988662</td>\n",
       "      <td>2</td>\n",
       "    </tr>\n",
       "    <tr>\n",
       "      <th>99</th>\n",
       "      <td>አለቃ የጻፏቸው መጽሀፍት ውድ ና ጣፋጭ ከ መሆናቸው የተነሳ በ ህትመታቸው...</td>\n",
       "      <td>../data/train/wav/tr_100_tr01100.wav</td>\n",
       "      <td>../data/train_new/tr_100_tr01100.wav</td>\n",
       "      <td>4.988662</td>\n",
       "      <td>2</td>\n",
       "    </tr>\n",
       "    <tr>\n",
       "      <th>100</th>\n",
       "      <td>በ ኮምፒውተር ሳይንስ ፎን ት ቴክኖሎጂ ለ ዶክትሬት ዲግሪ ጥናት እያደረጉ...</td>\n",
       "      <td>../data/train/wav/tr_101_tr02001.wav</td>\n",
       "      <td>../data/train_new/tr_101_tr02001.wav</td>\n",
       "      <td>4.988662</td>\n",
       "      <td>2</td>\n",
       "    </tr>\n",
       "    <tr>\n",
       "      <th>101</th>\n",
       "      <td>የ ውሀው ዘርፍ ያለበት ን የ ፋይናንስ ችግር ለ መፍታት የ ውሀ ሀብት ል...</td>\n",
       "      <td>../data/train/wav/tr_102_tr02002.wav</td>\n",
       "      <td>../data/train_new/tr_102_tr02002.wav</td>\n",
       "      <td>4.988662</td>\n",
       "      <td>2</td>\n",
       "    </tr>\n",
       "    <tr>\n",
       "      <th>102</th>\n",
       "      <td>የ መንገደኞች ማስተናገጃ ህንጻው በ ሰአት እስከ ሶስት ሺ ያህል መንገደኞ...</td>\n",
       "      <td>../data/train/wav/tr_103_tr02003.wav</td>\n",
       "      <td>../data/train_new/tr_103_tr02003.wav</td>\n",
       "      <td>4.988662</td>\n",
       "      <td>2</td>\n",
       "    </tr>\n",
       "  </tbody>\n",
       "</table>\n",
       "</div>"
      ],
      "text/plain": [
       "                                                Target  \\\n",
       "9    ግን ወደ ኋላው ላይ ኢሳያስ እንደ ልማ ዳቸው ሁሉን ም የ መልከ ፍ ዲፕሎ...   \n",
       "99   አለቃ የጻፏቸው መጽሀፍት ውድ ና ጣፋጭ ከ መሆናቸው የተነሳ በ ህትመታቸው...   \n",
       "100  በ ኮምፒውተር ሳይንስ ፎን ት ቴክኖሎጂ ለ ዶክትሬት ዲግሪ ጥናት እያደረጉ...   \n",
       "101  የ ውሀው ዘርፍ ያለበት ን የ ፋይናንስ ችግር ለ መፍታት የ ውሀ ሀብት ል...   \n",
       "102  የ መንገደኞች ማስተናገጃ ህንጻው በ ሰአት እስከ ሶስት ሺ ያህል መንገደኞ...   \n",
       "\n",
       "                                  Feature  \\\n",
       "9     ../data/train/wav/tr_10_tr01010.wav   \n",
       "99   ../data/train/wav/tr_100_tr01100.wav   \n",
       "100  ../data/train/wav/tr_101_tr02001.wav   \n",
       "101  ../data/train/wav/tr_102_tr02002.wav   \n",
       "102  ../data/train/wav/tr_103_tr02003.wav   \n",
       "\n",
       "                                   Output  Duration  n_channel  \n",
       "9     ../data/train_new/tr_10_tr01010.wav  4.988662          2  \n",
       "99   ../data/train_new/tr_100_tr01100.wav  4.988662          2  \n",
       "100  ../data/train_new/tr_101_tr02001.wav  4.988662          2  \n",
       "101  ../data/train_new/tr_102_tr02002.wav  4.988662          2  \n",
       "102  ../data/train_new/tr_103_tr02003.wav  4.988662          2  "
      ]
     },
     "execution_count": 16,
     "metadata": {},
     "output_type": "execute_result"
    }
   ],
   "source": [
    "# making sure everything is right\n",
    "data =  wave.open('../data/train_new/tr_10_tr01010.wav')\n",
    "print(\"the parameters are: \", data.getparams())\n",
    "meta_data= DC.add_duration(meta_data, output= True)\n",
    "meta_data= DC.channel_count(meta_data, output= True)\n",
    "selection = meta_data[meta_data[\"Duration\"] != 400]\n",
    "selection.head()\n"
   ]
  },
  {
   "cell_type": "markdown",
   "metadata": {},
   "source": [
    "**Observation**\n",
    "- audio samples have been successfully converted to stereo\n",
    "- 400 is just a placeholder for missing audio files \n",
    "  because only a limited number of samples are taken for development\n",
    "  This will not be present when the data is complete."
   ]
  }
 ],
 "metadata": {
  "interpreter": {
   "hash": "2b997b5b8794c030e25a28be498e8226ee8897df85ede9190db777bdc9cc75be"
  },
  "kernelspec": {
   "display_name": "Python 3.9.7 ('base')",
   "language": "python",
   "name": "python3"
  },
  "language_info": {
   "codemirror_mode": {
    "name": "ipython",
    "version": 3
   },
   "file_extension": ".py",
   "mimetype": "text/x-python",
   "name": "python",
   "nbconvert_exporter": "python",
   "pygments_lexer": "ipython3",
   "version": "3.9.7"
  },
  "orig_nbformat": 4
 },
 "nbformat": 4,
 "nbformat_minor": 2
}
